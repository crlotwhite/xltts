{
 "cells": [
  {
   "cell_type": "code",
   "execution_count": 2,
   "id": "32c7d944-2019-4bbe-acec-f40274205e22",
   "metadata": {},
   "outputs": [
    {
     "name": "stdout",
     "output_type": "stream",
     "text": [
      "hello, world\n"
     ]
    }
   ],
   "source": [
    "println(\"hello, world\")"
   ]
  },
  {
   "cell_type": "code",
   "execution_count": 3,
   "id": "186e2158-79c3-44e6-a1c8-f689131c37d2",
   "metadata": {},
   "outputs": [
    {
     "data": {
      "text/plain": [
       "32"
      ]
     },
     "execution_count": 3,
     "metadata": {},
     "output_type": "execute_result"
    }
   ],
   "source": [
    "2^5"
   ]
  },
  {
   "cell_type": "code",
   "execution_count": 4,
   "id": "39b2c419-0f5c-408a-8240-1151a86e8b89",
   "metadata": {},
   "outputs": [
    {
     "data": {
      "text/plain": [
       "2562"
      ]
     },
     "execution_count": 4,
     "metadata": {},
     "output_type": "execute_result"
    }
   ],
   "source": [
    "(42*60) + 42"
   ]
  },
  {
   "cell_type": "code",
   "execution_count": 5,
   "id": "4cff05c3-dfa8-4648-84d9-4751e9e04de7",
   "metadata": {},
   "outputs": [
    {
     "data": {
      "text/plain": [
       "6.211180124223602"
      ]
     },
     "execution_count": 5,
     "metadata": {},
     "output_type": "execute_result"
    }
   ],
   "source": [
    "10/1.61"
   ]
  },
  {
   "cell_type": "code",
   "execution_count": 6,
   "id": "138022ab-0688-4e4e-8af1-1ee23b3e30ff",
   "metadata": {},
   "outputs": [
    {
     "data": {
      "text/plain": [
       "16.1"
      ]
     },
     "execution_count": 6,
     "metadata": {},
     "output_type": "execute_result"
    }
   ],
   "source": [
    "1:1.61 = x:y\n",
    "\n"
   ]
  },
  {
   "cell_type": "code",
   "execution_count": 7,
   "id": "6c2e4c2d-3df6-4a32-97aa-1516eabe41b4",
   "metadata": {},
   "outputs": [
    {
     "data": {
      "text/plain": [
       "2268"
      ]
     },
     "execution_count": 7,
     "metadata": {},
     "output_type": "execute_result"
    }
   ],
   "source": [
    "(37*60) + 48"
   ]
  },
  {
   "cell_type": "code",
   "execution_count": 8,
   "id": "f82b8330-2435-4b9f-834e-7700a3afa120",
   "metadata": {},
   "outputs": [
    {
     "data": {
      "text/plain": [
       "140.86956521739128"
      ]
     },
     "execution_count": 8,
     "metadata": {},
     "output_type": "execute_result"
    }
   ],
   "source": [
    "2268 / 16.1"
   ]
  },
  {
   "cell_type": "code",
   "execution_count": 9,
   "id": "f9cf49f9-7be2-46ea-9b87-c1198dd18133",
   "metadata": {},
   "outputs": [
    {
     "data": {
      "text/plain": [
       "20.869565217391283"
      ]
     },
     "execution_count": 9,
     "metadata": {},
     "output_type": "execute_result"
    }
   ],
   "source": [
    "140.86956521739128 - 60 - 60"
   ]
  },
  {
   "cell_type": "code",
   "execution_count": 11,
   "id": "026ca762-d929-4e56-b6df-886656f2a06d",
   "metadata": {},
   "outputs": [
    {
     "data": {
      "text/plain": [
       "hi (generic function with 1 method)"
      ]
     },
     "execution_count": 11,
     "metadata": {},
     "output_type": "execute_result"
    }
   ],
   "source": [
    "function hi()\n",
    "    println(\"hello world\")\n",
    "end"
   ]
  },
  {
   "cell_type": "code",
   "execution_count": 12,
   "id": "9753df57-a627-4f03-984d-d6d6af2f03b0",
   "metadata": {},
   "outputs": [
    {
     "name": "stdout",
     "output_type": "stream",
     "text": [
      "hello world\n"
     ]
    }
   ],
   "source": [
    "hi()"
   ]
  },
  {
   "cell_type": "code",
   "execution_count": 1,
   "id": "d4027268-f56a-4e6a-9094-e8b1a308d6c0",
   "metadata": {},
   "outputs": [
    {
     "ename": "LoadError",
     "evalue": "LoadError: UndefVarError: @svg not defined\nin expression starting at In[1]:1",
     "output_type": "error",
     "traceback": [
      "LoadError: UndefVarError: @svg not defined\nin expression starting at In[1]:1",
      ""
     ]
    }
   ],
   "source": [
    "@svg begin\n",
    "    forward(🐢, 100)\n",
    "end\n"
   ]
  },
  {
   "cell_type": "code",
   "execution_count": 2,
   "id": "d89699c8-f4fb-4f61-af90-0c5752b0169f",
   "metadata": {},
   "outputs": [
    {
     "name": "stderr",
     "output_type": "stream",
     "text": [
      "\u001b[36m\u001b[1m[ \u001b[22m\u001b[39m\u001b[36m\u001b[1mInfo: \u001b[22m\u001b[39mPrecompiling ThinkJulia [a7f2b756-c18b-4c7f-87da-faca9ac81b29]\n",
      "\u001b[36m\u001b[1m[ \u001b[22m\u001b[39m\u001b[36m\u001b[1mInfo: \u001b[22m\u001b[39mSkipping precompilation since __precompile__(false). Importing ThinkJulia [a7f2b756-c18b-4c7f-87da-faca9ac81b29].\n",
      "\u001b[36m\u001b[1m[ \u001b[22m\u001b[39m\u001b[36m\u001b[1mInfo: \u001b[22m\u001b[39mPrecompiling TikzPictures [37f6aa50-8035-52d0-81c2-5a1d08754b2d]\n",
      "\u001b[91m\u001b[1mERROR: \u001b[22m\u001b[39mLoadError: Cannot locate artifact 'tectonic_bin' for aarch64-apple-darwin-libgfortran5-cxx11-julia_version+1.8.5 in '/Users/noel/.julia/packages/Tectonic/0KVMH/Artifacts.toml'\n",
      "Stacktrace:\n",
      " [1] \u001b[0m\u001b[1merror\u001b[22m\u001b[0m\u001b[1m(\u001b[22m\u001b[90ms\u001b[39m::\u001b[0mString\u001b[0m\u001b[1m)\u001b[22m\n",
      "\u001b[90m   @ \u001b[39m\u001b[90mBase\u001b[39m \u001b[90m./\u001b[39m\u001b[90m\u001b[4merror.jl:35\u001b[24m\u001b[39m\n",
      " [2] \u001b[0m\u001b[1martifact_slash_lookup\u001b[22m\u001b[0m\u001b[1m(\u001b[22m\u001b[90mname\u001b[39m::\u001b[0mString, \u001b[90martifact_dict\u001b[39m::\u001b[0mDict\u001b[90m{String, Any}\u001b[39m, \u001b[90martifacts_toml\u001b[39m::\u001b[0mString, \u001b[90mplatform\u001b[39m::\u001b[0mBase.BinaryPlatforms.Platform\u001b[0m\u001b[1m)\u001b[22m\n",
      "\u001b[90m   @ \u001b[39m\u001b[35mArtifacts\u001b[39m \u001b[90m/Applications/Julia-1.8.app/Contents/Resources/julia/share/julia/stdlib/v1.8/Artifacts/src/\u001b[39m\u001b[90m\u001b[4mArtifacts.jl:609\u001b[24m\u001b[39m\n",
      " [3] \u001b[0m\u001b[1mvar\"@artifact_str\"\u001b[22m\u001b[0m\u001b[1m(\u001b[22m\u001b[90m__source__\u001b[39m::\u001b[0mLineNumberNode, \u001b[90m__module__\u001b[39m::\u001b[0mModule, \u001b[90mname\u001b[39m::\u001b[0mAny, \u001b[90mplatform\u001b[39m::\u001b[0mAny\u001b[0m\u001b[1m)\u001b[22m\n",
      "\u001b[90m   @ \u001b[39m\u001b[35mArtifacts\u001b[39m \u001b[90m/Applications/Julia-1.8.app/Contents/Resources/julia/share/julia/stdlib/v1.8/Artifacts/src/\u001b[39m\u001b[90m\u001b[4mArtifacts.jl:679\u001b[24m\u001b[39m\n",
      " [4] \u001b[0m\u001b[1mvar\"@artifact_str\"\u001b[22m\u001b[0m\u001b[1m(\u001b[22m\u001b[90m__source__\u001b[39m::\u001b[0mLineNumberNode, \u001b[90m__module__\u001b[39m::\u001b[0mModule, \u001b[90mname\u001b[39m::\u001b[0mAny\u001b[0m\u001b[1m)\u001b[22m\n",
      "\u001b[90m   @ \u001b[39m\u001b[35mArtifacts\u001b[39m \u001b[90m/Applications/Julia-1.8.app/Contents/Resources/julia/share/julia/stdlib/v1.8/Artifacts/src/\u001b[39m\u001b[90m\u001b[4mArtifacts.jl:642\u001b[24m\u001b[39m\n",
      " [5] \u001b[0m\u001b[1minclude\u001b[22m\n",
      "\u001b[90m   @ \u001b[39m\u001b[90m./\u001b[39m\u001b[90m\u001b[4mBase.jl:419\u001b[24m\u001b[39m\u001b[90m [inlined]\u001b[39m\n",
      " [6] \u001b[0m\u001b[1minclude_package_for_output\u001b[22m\u001b[0m\u001b[1m(\u001b[22m\u001b[90mpkg\u001b[39m::\u001b[0mBase.PkgId, \u001b[90minput\u001b[39m::\u001b[0mString, \u001b[90mdepot_path\u001b[39m::\u001b[0mVector\u001b[90m{String}\u001b[39m, \u001b[90mdl_load_path\u001b[39m::\u001b[0mVector\u001b[90m{String}\u001b[39m, \u001b[90mload_path\u001b[39m::\u001b[0mVector\u001b[90m{String}\u001b[39m, \u001b[90mconcrete_deps\u001b[39m::\u001b[0mVector\u001b[90m{Pair{Base.PkgId, UInt64}}\u001b[39m, \u001b[90msource\u001b[39m::\u001b[0mString\u001b[0m\u001b[1m)\u001b[22m\n",
      "\u001b[90m   @ \u001b[39m\u001b[90mBase\u001b[39m \u001b[90m./\u001b[39m\u001b[90m\u001b[4mloading.jl:1554\u001b[24m\u001b[39m\n",
      " [7] top-level scope\n",
      "\u001b[90m   @ \u001b[39m\u001b[90m\u001b[4mstdin:1\u001b[24m\u001b[39m\n",
      "in expression starting at /Users/noel/.julia/packages/Tectonic/0KVMH/src/Tectonic.jl:35\n",
      "in expression starting at /Users/noel/.julia/packages/Tectonic/0KVMH/src/Tectonic.jl:1\n",
      "in expression starting at stdin:1\n",
      "\u001b[91m\u001b[1mERROR: \u001b[22m\u001b[39mLoadError: Failed to precompile Tectonic [9ac5f52a-99c6-489f-af81-462ef484790f] to /Users/noel/.julia/compiled/v1.8/Tectonic/jl_Vb3OMN.\n",
      "Stacktrace:\n",
      "  [1] \u001b[0m\u001b[1merror\u001b[22m\u001b[0m\u001b[1m(\u001b[22m\u001b[90ms\u001b[39m::\u001b[0mString\u001b[0m\u001b[1m)\u001b[22m\n",
      "\u001b[90m    @ \u001b[39m\u001b[90mBase\u001b[39m \u001b[90m./\u001b[39m\u001b[90m\u001b[4merror.jl:35\u001b[24m\u001b[39m\n",
      "  [2] \u001b[0m\u001b[1mcompilecache\u001b[22m\u001b[0m\u001b[1m(\u001b[22m\u001b[90mpkg\u001b[39m::\u001b[0mBase.PkgId, \u001b[90mpath\u001b[39m::\u001b[0mString, \u001b[90minternal_stderr\u001b[39m::\u001b[0mIO, \u001b[90minternal_stdout\u001b[39m::\u001b[0mIO, \u001b[90mkeep_loaded_modules\u001b[39m::\u001b[0mBool\u001b[0m\u001b[1m)\u001b[22m\n",
      "\u001b[90m    @ \u001b[39m\u001b[90mBase\u001b[39m \u001b[90m./\u001b[39m\u001b[90m\u001b[4mloading.jl:1707\u001b[24m\u001b[39m\n",
      "  [3] \u001b[0m\u001b[1mcompilecache\u001b[22m\n",
      "\u001b[90m    @ \u001b[39m\u001b[90m./\u001b[39m\u001b[90m\u001b[4mloading.jl:1651\u001b[24m\u001b[39m\u001b[90m [inlined]\u001b[39m\n",
      "  [4] \u001b[0m\u001b[1m_require\u001b[22m\u001b[0m\u001b[1m(\u001b[22m\u001b[90mpkg\u001b[39m::\u001b[0mBase.PkgId\u001b[0m\u001b[1m)\u001b[22m\n",
      "\u001b[90m    @ \u001b[39m\u001b[90mBase\u001b[39m \u001b[90m./\u001b[39m\u001b[90m\u001b[4mloading.jl:1337\u001b[24m\u001b[39m\n",
      "  [5] \u001b[0m\u001b[1m_require_prelocked\u001b[22m\u001b[0m\u001b[1m(\u001b[22m\u001b[90muuidkey\u001b[39m::\u001b[0mBase.PkgId\u001b[0m\u001b[1m)\u001b[22m\n",
      "\u001b[90m    @ \u001b[39m\u001b[90mBase\u001b[39m \u001b[90m./\u001b[39m\u001b[90m\u001b[4mloading.jl:1200\u001b[24m\u001b[39m\n",
      "  [6] \u001b[0m\u001b[1mmacro expansion\u001b[22m\n",
      "\u001b[90m    @ \u001b[39m\u001b[90m./\u001b[39m\u001b[90m\u001b[4mloading.jl:1180\u001b[24m\u001b[39m\u001b[90m [inlined]\u001b[39m\n",
      "  [7] \u001b[0m\u001b[1mmacro expansion\u001b[22m\n",
      "\u001b[90m    @ \u001b[39m\u001b[90m./\u001b[39m\u001b[90m\u001b[4mlock.jl:223\u001b[24m\u001b[39m\u001b[90m [inlined]\u001b[39m\n",
      "  [8] \u001b[0m\u001b[1mrequire\u001b[22m\u001b[0m\u001b[1m(\u001b[22m\u001b[90minto\u001b[39m::\u001b[0mModule, \u001b[90mmod\u001b[39m::\u001b[0mSymbol\u001b[0m\u001b[1m)\u001b[22m\n",
      "\u001b[90m    @ \u001b[39m\u001b[90mBase\u001b[39m \u001b[90m./\u001b[39m\u001b[90m\u001b[4mloading.jl:1144\u001b[24m\u001b[39m\n",
      "  [9] \u001b[0m\u001b[1minclude\u001b[22m\n",
      "\u001b[90m    @ \u001b[39m\u001b[90m./\u001b[39m\u001b[90m\u001b[4mBase.jl:419\u001b[24m\u001b[39m\u001b[90m [inlined]\u001b[39m\n",
      " [10] \u001b[0m\u001b[1minclude_package_for_output\u001b[22m\u001b[0m\u001b[1m(\u001b[22m\u001b[90mpkg\u001b[39m::\u001b[0mBase.PkgId, \u001b[90minput\u001b[39m::\u001b[0mString, \u001b[90mdepot_path\u001b[39m::\u001b[0mVector\u001b[90m{String}\u001b[39m, \u001b[90mdl_load_path\u001b[39m::\u001b[0mVector\u001b[90m{String}\u001b[39m, \u001b[90mload_path\u001b[39m::\u001b[0mVector\u001b[90m{String}\u001b[39m, \u001b[90mconcrete_deps\u001b[39m::\u001b[0mVector\u001b[90m{Pair{Base.PkgId, UInt64}}\u001b[39m, \u001b[90msource\u001b[39m::\u001b[0mString\u001b[0m\u001b[1m)\u001b[22m\n",
      "\u001b[90m    @ \u001b[39m\u001b[90mBase\u001b[39m \u001b[90m./\u001b[39m\u001b[90m\u001b[4mloading.jl:1554\u001b[24m\u001b[39m\n",
      " [11] top-level scope\n",
      "\u001b[90m    @ \u001b[39m\u001b[90m\u001b[4mstdin:1\u001b[24m\u001b[39m\n",
      "in expression starting at /Users/noel/.julia/packages/TikzPictures/4zjh8/src/TikzPictures.jl:1\n",
      "in expression starting at stdin:1\n"
     ]
    },
    {
     "ename": "LoadError",
     "evalue": "LoadError: Failed to precompile TikzPictures [37f6aa50-8035-52d0-81c2-5a1d08754b2d] to /Users/noel/.julia/compiled/v1.8/TikzPictures/jl_5ttppL.\nin expression starting at /Users/noel/.julia/packages/ThinkJulia/REhsz/src/ThinkJulia.jl:1",
     "output_type": "error",
     "traceback": [
      "LoadError: Failed to precompile TikzPictures [37f6aa50-8035-52d0-81c2-5a1d08754b2d] to /Users/noel/.julia/compiled/v1.8/TikzPictures/jl_5ttppL.\nin expression starting at /Users/noel/.julia/packages/ThinkJulia/REhsz/src/ThinkJulia.jl:1",
      "",
      "Stacktrace:",
      "  [1] error(s::String)",
      "    @ Base ./error.jl:35",
      "  [2] compilecache(pkg::Base.PkgId, path::String, internal_stderr::IO, internal_stdout::IO, keep_loaded_modules::Bool)",
      "    @ Base ./loading.jl:1707",
      "  [3] compilecache",
      "    @ ./loading.jl:1651 [inlined]",
      "  [4] _require(pkg::Base.PkgId)",
      "    @ Base ./loading.jl:1337",
      "  [5] _require_prelocked(uuidkey::Base.PkgId)",
      "    @ Base ./loading.jl:1200",
      "  [6] macro expansion",
      "    @ ./loading.jl:1180 [inlined]",
      "  [7] macro expansion",
      "    @ ./lock.jl:223 [inlined]",
      "  [8] require(into::Module, mod::Symbol)",
      "    @ Base ./loading.jl:1144",
      "  [9] include",
      "    @ ./Base.jl:419 [inlined]",
      " [10] _require(pkg::Base.PkgId)",
      "    @ Base ./loading.jl:1367",
      " [11] _require_prelocked(uuidkey::Base.PkgId)",
      "    @ Base ./loading.jl:1200",
      " [12] macro expansion",
      "    @ ./loading.jl:1180 [inlined]",
      " [13] macro expansion",
      "    @ ./lock.jl:223 [inlined]",
      " [14] require(into::Module, mod::Symbol)",
      "    @ Base ./loading.jl:1144"
     ]
    }
   ],
   "source": [
    "using ThinkJulia\n",
    "🐢 = Turtle()\n"
   ]
  },
  {
   "cell_type": "code",
   "execution_count": 3,
   "id": "cdc846bc-9722-4cd6-aae6-64678b2e9307",
   "metadata": {},
   "outputs": [
    {
     "name": "stdout",
     "output_type": "stream",
     "text": [
      "1\n",
      "2\n",
      "3\n",
      "4\n"
     ]
    }
   ],
   "source": [
    "for i in 1:4\n",
    "    println(i)\n",
    "end"
   ]
  },
  {
   "cell_type": "code",
   "execution_count": 6,
   "id": "5405b217-03e2-4fdf-b281-7eedae55b0b6",
   "metadata": {},
   "outputs": [
    {
     "data": {
      "text/plain": [
       "5.977279923499917"
      ]
     },
     "execution_count": 6,
     "metadata": {},
     "output_type": "execute_result"
    }
   ],
   "source": [
    "log2(63)"
   ]
  },
  {
   "cell_type": "code",
   "execution_count": null,
   "id": "6f0e3aa3-572a-41e4-83c2-124da3ca26f9",
   "metadata": {},
   "outputs": [],
   "source": []
  }
 ],
 "metadata": {
  "kernelspec": {
   "display_name": "Julia 1.8.5",
   "language": "julia",
   "name": "julia-1.8"
  },
  "language_info": {
   "file_extension": ".jl",
   "mimetype": "application/julia",
   "name": "julia",
   "version": "1.8.5"
  }
 },
 "nbformat": 4,
 "nbformat_minor": 5
}
